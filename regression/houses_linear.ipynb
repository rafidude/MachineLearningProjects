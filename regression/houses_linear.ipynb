{
  "nbformat": 4,
  "nbformat_minor": 0,
  "metadata": {
    "colab": {
      "provenance": [],
      "authorship_tag": "ABX9TyNYhVoZ6RiQHoCtSTpQL/G6",
      "include_colab_link": true
    },
    "kernelspec": {
      "name": "python3",
      "display_name": "Python 3"
    },
    "language_info": {
      "name": "python"
    }
  },
  "cells": [
    {
      "cell_type": "markdown",
      "metadata": {
        "id": "view-in-github",
        "colab_type": "text"
      },
      "source": [
        "<a href=\"https://colab.research.google.com/github/rafidude/MachineLearningProjects/blob/main/regression/houses_linear.ipynb\" target=\"_parent\"><img src=\"https://colab.research.google.com/assets/colab-badge.svg\" alt=\"Open In Colab\"/></a>"
      ]
    },
    {
      "cell_type": "code",
      "execution_count": null,
      "metadata": {
        "id": "CTG1pxsKk1td"
      },
      "outputs": [],
      "source": [
        "from sklearn.datasets import load_boston\n",
        "from sklearn.model_selection import train_test_split\n",
        "from sklearn.linear_model import LinearRegression\n",
        "from sklearn.datasets import fetch_california_housing\n",
        "housing = fetch_california_housing()"
      ]
    },
    {
      "cell_type": "code",
      "source": [
        "# Load the California Housing dataset\n",
        "X = housing.data\n",
        "y = housing.target\n",
        "\n",
        "# Split the data into training and test sets\n",
        "X_train, X_test, y_train, y_test = train_test_split(X, y, random_state=0)"
      ],
      "metadata": {
        "id": "rXoOOHYOlMs4"
      },
      "execution_count": null,
      "outputs": []
    },
    {
      "cell_type": "code",
      "source": [
        "# Create a linear regression model\n",
        "linear_regression = LinearRegression()\n",
        "\n",
        "# Fit the model to the training data\n",
        "linear_regression.fit(X_train, y_train)\n",
        "\n",
        "# Evaluate the model on the test data\n",
        "r2 = linear_regression.score(X_test, y_test)\n",
        "print('R^2: {:.2f}'.format(r2))"
      ],
      "metadata": {
        "id": "ZuJRAiADlvTm",
        "outputId": "ddfa0004-e0fa-47c1-f03d-45388d15c07e",
        "colab": {
          "base_uri": "https://localhost:8080/"
        }
      },
      "execution_count": null,
      "outputs": [
        {
          "output_type": "stream",
          "name": "stdout",
          "text": [
            "R^2: 0.59\n"
          ]
        }
      ]
    },
    {
      "cell_type": "code",
      "source": [],
      "metadata": {
        "id": "1qAQ_zt9lwvj"
      },
      "execution_count": null,
      "outputs": []
    }
  ]
}