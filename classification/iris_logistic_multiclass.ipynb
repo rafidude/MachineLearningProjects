{
  "cells": [
    {
      "cell_type": "markdown",
      "metadata": {
        "id": "view-in-github",
        "colab_type": "text"
      },
      "source": [
        "<a href=\"https://colab.research.google.com/github/rafidude/MachineLearningProjects/blob/main/classification/iris_logistic_multiclass.ipynb\" target=\"_parent\"><img src=\"https://colab.research.google.com/assets/colab-badge.svg\" alt=\"Open In Colab\"/></a>"
      ]
    },
    {
      "cell_type": "code",
      "execution_count": null,
      "id": "laden-vaccine",
      "metadata": {
        "id": "laden-vaccine"
      },
      "outputs": [],
      "source": [
        "from sklearn.datasets import load_iris\n",
        "from sklearn.model_selection import train_test_split\n",
        "from sklearn.linear_model import LogisticRegression\n",
        "import altair as alt\n",
        "import pandas as pd"
      ]
    },
    {
      "cell_type": "code",
      "execution_count": null,
      "id": "sapphire-tokyo",
      "metadata": {
        "id": "sapphire-tokyo"
      },
      "outputs": [],
      "source": [
        "# Load the Iris dataset\n",
        "iris = load_iris()\n",
        "X = iris.data\n",
        "y = iris.target"
      ]
    },
    {
      "cell_type": "code",
      "execution_count": null,
      "id": "abroad-olive",
      "metadata": {
        "id": "abroad-olive",
        "outputId": "514c6f60-b73c-4603-9e77-91e8109ba6cc"
      },
      "outputs": [
        {
          "name": "stdout",
          "output_type": "stream",
          "text": [
            "Accuracy: 0.95\n"
          ]
        }
      ],
      "source": [
        "# Split the data into training and test sets\n",
        "X_train, X_test, y_train, y_test = train_test_split(X, y, random_state=0)\n",
        "\n",
        "# Create a logistic regression classifier\n",
        "logistic_regression = LogisticRegression(multi_class='ovr')\n",
        "\n",
        "# Fit the classifier to the training data\n",
        "logistic_regression.fit(X_train, y_train)\n",
        "\n",
        "# Score the classifier on the test data\n",
        "accuracy = logistic_regression.score(X_test, y_test)\n",
        "print('Accuracy: {:.2f}'.format(accuracy))"
      ]
    },
    {
      "cell_type": "code",
      "execution_count": null,
      "id": "dominant-antibody",
      "metadata": {
        "id": "dominant-antibody"
      },
      "outputs": [],
      "source": [
        "# Make predictions on the test data\n",
        "predictions = logistic_regression.predict(X_test)\n",
        "\n",
        "# Create a dataframe with the test data and the predictions\n",
        "df = pd.DataFrame({'feature_1': X_test[:,0], 'feature_2': X_test[:,1], 'target': y_test, 'prediction': predictions})\n",
        "\n",
        "# Create a chart with the predictions and the actual targets\n",
        "chart = alt.Chart(df).mark_circle(size=60).encode(\n",
        "    alt.X('feature_1', scale=alt.Scale(zero=False)),\n",
        "    alt.Y('feature_2', scale=alt.Scale(zero=False, padding=1)),\n",
        "    alt.Color('prediction:N')\n",
        ").properties(\n",
        "    title='Predictions on the Iris test set',\n",
        "    width=400,\n",
        "    height=400\n",
        ")\n",
        "\n",
        "chart"
      ]
    }
  ],
  "metadata": {
    "kernelspec": {
      "display_name": "Python 3",
      "language": "python",
      "name": "python3"
    },
    "language_info": {
      "codemirror_mode": {
        "name": "ipython",
        "version": 3
      },
      "file_extension": ".py",
      "mimetype": "text/x-python",
      "name": "python",
      "nbconvert_exporter": "python",
      "pygments_lexer": "ipython3",
      "version": "3.9.16"
    },
    "colab": {
      "provenance": [],
      "include_colab_link": true
    }
  },
  "nbformat": 4,
  "nbformat_minor": 5
}