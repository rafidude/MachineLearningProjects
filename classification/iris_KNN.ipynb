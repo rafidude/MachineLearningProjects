{
  "cells": [
    {
      "cell_type": "markdown",
      "metadata": {
        "id": "view-in-github",
        "colab_type": "text"
      },
      "source": [
        "<a href=\"https://colab.research.google.com/github/rafidude/MachineLearningProjects/blob/main/classification/iris_KNN.ipynb\" target=\"_parent\"><img src=\"https://colab.research.google.com/assets/colab-badge.svg\" alt=\"Open In Colab\"/></a>"
      ]
    },
    {
      "cell_type": "code",
      "execution_count": 4,
      "id": "aware-twist",
      "metadata": {
        "id": "aware-twist"
      },
      "outputs": [],
      "source": [
        "from sklearn.datasets import load_iris\n",
        "from sklearn.model_selection import train_test_split\n",
        "from sklearn.neighbors import KNeighborsClassifier\n",
        "import altair as alt\n",
        "import pandas as pd"
      ]
    },
    {
      "cell_type": "code",
      "execution_count": 5,
      "id": "relative-london",
      "metadata": {
        "id": "relative-london"
      },
      "outputs": [],
      "source": [
        "# Load the Iris dataset\n",
        "iris = load_iris()\n",
        "X = iris.data\n",
        "y = iris.target\n",
        "\n",
        "# Split the data into training and test sets\n",
        "X_train, X_test, y_train, y_test = train_test_split(X, y, random_state=0)"
      ]
    },
    {
      "cell_type": "code",
      "execution_count": 7,
      "id": "efficient-frame",
      "metadata": {
        "id": "efficient-frame",
        "outputId": "ea3d28c4-f91d-4d35-9af4-1f781a40b189",
        "colab": {
          "base_uri": "https://localhost:8080/"
        }
      },
      "outputs": [
        {
          "output_type": "stream",
          "name": "stdout",
          "text": [
            "Accuracy: 0.97\n"
          ]
        }
      ],
      "source": [
        "# Create a KNN classifier\n",
        "knn = KNeighborsClassifier(n_neighbors=1)\n",
        "\n",
        "# Fit the classifier to the training data\n",
        "knn.fit(X_train, y_train)\n",
        "\n",
        "# Score the classifier on the test data\n",
        "accuracy = knn.score(X_test, y_test)\n",
        "print('Accuracy: {:.2f}'.format(accuracy))"
      ]
    },
    {
      "cell_type": "code",
      "execution_count": 8,
      "id": "apart-jimmy",
      "metadata": {
        "id": "apart-jimmy",
        "outputId": "0f026706-b00f-46e5-dd50-4b5b116399f3",
        "colab": {
          "base_uri": "https://localhost:8080/",
          "height": 485
        }
      },
      "outputs": [
        {
          "output_type": "execute_result",
          "data": {
            "text/html": [
              "\n",
              "<div id=\"altair-viz-77d19491f19a40f999fb5d647a343a58\"></div>\n",
              "<script type=\"text/javascript\">\n",
              "  var VEGA_DEBUG = (typeof VEGA_DEBUG == \"undefined\") ? {} : VEGA_DEBUG;\n",
              "  (function(spec, embedOpt){\n",
              "    let outputDiv = document.currentScript.previousElementSibling;\n",
              "    if (outputDiv.id !== \"altair-viz-77d19491f19a40f999fb5d647a343a58\") {\n",
              "      outputDiv = document.getElementById(\"altair-viz-77d19491f19a40f999fb5d647a343a58\");\n",
              "    }\n",
              "    const paths = {\n",
              "      \"vega\": \"https://cdn.jsdelivr.net/npm//vega@5?noext\",\n",
              "      \"vega-lib\": \"https://cdn.jsdelivr.net/npm//vega-lib?noext\",\n",
              "      \"vega-lite\": \"https://cdn.jsdelivr.net/npm//vega-lite@4.17.0?noext\",\n",
              "      \"vega-embed\": \"https://cdn.jsdelivr.net/npm//vega-embed@6?noext\",\n",
              "    };\n",
              "\n",
              "    function maybeLoadScript(lib, version) {\n",
              "      var key = `${lib.replace(\"-\", \"\")}_version`;\n",
              "      return (VEGA_DEBUG[key] == version) ?\n",
              "        Promise.resolve(paths[lib]) :\n",
              "        new Promise(function(resolve, reject) {\n",
              "          var s = document.createElement('script');\n",
              "          document.getElementsByTagName(\"head\")[0].appendChild(s);\n",
              "          s.async = true;\n",
              "          s.onload = () => {\n",
              "            VEGA_DEBUG[key] = version;\n",
              "            return resolve(paths[lib]);\n",
              "          };\n",
              "          s.onerror = () => reject(`Error loading script: ${paths[lib]}`);\n",
              "          s.src = paths[lib];\n",
              "        });\n",
              "    }\n",
              "\n",
              "    function showError(err) {\n",
              "      outputDiv.innerHTML = `<div class=\"error\" style=\"color:red;\">${err}</div>`;\n",
              "      throw err;\n",
              "    }\n",
              "\n",
              "    function displayChart(vegaEmbed) {\n",
              "      vegaEmbed(outputDiv, spec, embedOpt)\n",
              "        .catch(err => showError(`Javascript Error: ${err.message}<br>This usually means there's a typo in your chart specification. See the javascript console for the full traceback.`));\n",
              "    }\n",
              "\n",
              "    if(typeof define === \"function\" && define.amd) {\n",
              "      requirejs.config({paths});\n",
              "      require([\"vega-embed\"], displayChart, err => showError(`Error loading script: ${err.message}`));\n",
              "    } else {\n",
              "      maybeLoadScript(\"vega\", \"5\")\n",
              "        .then(() => maybeLoadScript(\"vega-lite\", \"4.17.0\"))\n",
              "        .then(() => maybeLoadScript(\"vega-embed\", \"6\"))\n",
              "        .catch(showError)\n",
              "        .then(() => displayChart(vegaEmbed));\n",
              "    }\n",
              "  })({\"config\": {\"view\": {\"continuousWidth\": 400, \"continuousHeight\": 300}}, \"data\": {\"name\": \"data-414868d502c27680bea853b08eb4db74\"}, \"mark\": {\"type\": \"circle\", \"size\": 60}, \"encoding\": {\"color\": {\"field\": \"prediction\", \"type\": \"nominal\"}, \"x\": {\"field\": \"feature_1\", \"scale\": {\"zero\": false}, \"type\": \"quantitative\"}, \"y\": {\"field\": \"feature_2\", \"scale\": {\"padding\": 1, \"zero\": false}, \"type\": \"quantitative\"}}, \"height\": 400, \"title\": \"Predictions on the Iris test set\", \"width\": 400, \"$schema\": \"https://vega.github.io/schema/vega-lite/v4.17.0.json\", \"datasets\": {\"data-414868d502c27680bea853b08eb4db74\": [{\"feature_1\": 5.8, \"feature_2\": 2.8, \"target\": 2, \"prediction\": 2}, {\"feature_1\": 6.0, \"feature_2\": 2.2, \"target\": 1, \"prediction\": 1}, {\"feature_1\": 5.5, \"feature_2\": 4.2, \"target\": 0, \"prediction\": 0}, {\"feature_1\": 7.3, \"feature_2\": 2.9, \"target\": 2, \"prediction\": 2}, {\"feature_1\": 5.0, \"feature_2\": 3.4, \"target\": 0, \"prediction\": 0}, {\"feature_1\": 6.3, \"feature_2\": 3.3, \"target\": 2, \"prediction\": 2}, {\"feature_1\": 5.0, \"feature_2\": 3.5, \"target\": 0, \"prediction\": 0}, {\"feature_1\": 6.7, \"feature_2\": 3.1, \"target\": 1, \"prediction\": 1}, {\"feature_1\": 6.8, \"feature_2\": 2.8, \"target\": 1, \"prediction\": 1}, {\"feature_1\": 6.1, \"feature_2\": 2.8, \"target\": 1, \"prediction\": 1}, {\"feature_1\": 6.1, \"feature_2\": 2.6, \"target\": 2, \"prediction\": 2}, {\"feature_1\": 6.4, \"feature_2\": 3.2, \"target\": 1, \"prediction\": 1}, {\"feature_1\": 6.1, \"feature_2\": 2.8, \"target\": 1, \"prediction\": 1}, {\"feature_1\": 6.5, \"feature_2\": 2.8, \"target\": 1, \"prediction\": 1}, {\"feature_1\": 6.1, \"feature_2\": 2.9, \"target\": 1, \"prediction\": 1}, {\"feature_1\": 4.9, \"feature_2\": 3.6, \"target\": 0, \"prediction\": 0}, {\"feature_1\": 6.0, \"feature_2\": 2.9, \"target\": 1, \"prediction\": 1}, {\"feature_1\": 5.5, \"feature_2\": 2.6, \"target\": 1, \"prediction\": 1}, {\"feature_1\": 4.8, \"feature_2\": 3.0, \"target\": 0, \"prediction\": 0}, {\"feature_1\": 5.4, \"feature_2\": 3.9, \"target\": 0, \"prediction\": 0}, {\"feature_1\": 5.6, \"feature_2\": 2.8, \"target\": 2, \"prediction\": 2}, {\"feature_1\": 5.6, \"feature_2\": 3.0, \"target\": 1, \"prediction\": 1}, {\"feature_1\": 4.8, \"feature_2\": 3.4, \"target\": 0, \"prediction\": 0}, {\"feature_1\": 4.4, \"feature_2\": 2.9, \"target\": 0, \"prediction\": 0}, {\"feature_1\": 6.2, \"feature_2\": 2.8, \"target\": 2, \"prediction\": 2}, {\"feature_1\": 4.6, \"feature_2\": 3.6, \"target\": 0, \"prediction\": 0}, {\"feature_1\": 5.1, \"feature_2\": 3.8, \"target\": 0, \"prediction\": 0}, {\"feature_1\": 6.2, \"feature_2\": 2.9, \"target\": 1, \"prediction\": 1}, {\"feature_1\": 5.0, \"feature_2\": 2.3, \"target\": 1, \"prediction\": 1}, {\"feature_1\": 5.0, \"feature_2\": 3.4, \"target\": 0, \"prediction\": 0}, {\"feature_1\": 6.4, \"feature_2\": 3.1, \"target\": 2, \"prediction\": 2}, {\"feature_1\": 5.4, \"feature_2\": 3.0, \"target\": 1, \"prediction\": 1}, {\"feature_1\": 5.2, \"feature_2\": 3.5, \"target\": 0, \"prediction\": 0}, {\"feature_1\": 6.1, \"feature_2\": 3.0, \"target\": 2, \"prediction\": 2}, {\"feature_1\": 6.4, \"feature_2\": 2.8, \"target\": 2, \"prediction\": 2}, {\"feature_1\": 5.2, \"feature_2\": 2.7, \"target\": 1, \"prediction\": 1}, {\"feature_1\": 5.7, \"feature_2\": 3.8, \"target\": 0, \"prediction\": 0}, {\"feature_1\": 6.0, \"feature_2\": 2.7, \"target\": 1, \"prediction\": 2}]}}, {\"mode\": \"vega-lite\"});\n",
              "</script>"
            ],
            "text/plain": [
              "alt.Chart(...)"
            ]
          },
          "metadata": {},
          "execution_count": 8
        }
      ],
      "source": [
        "# Make predictions on the test data\n",
        "predictions = knn.predict(X_test)\n",
        "\n",
        "# Create a dataframe with the test data and the predictions\n",
        "df = pd.DataFrame({'feature_1': X_test[:,0], 'feature_2': X_test[:,1], 'target': y_test, 'prediction': predictions})\n",
        "\n",
        "# Create a chart with the predictions and the actual targets\n",
        "chart = alt.Chart(df).mark_circle(size=60).encode(\n",
        "    alt.X('feature_1', scale=alt.Scale(zero=False)),\n",
        "    alt.Y('feature_2', scale=alt.Scale(zero=False, padding=1)),\n",
        "    alt.Color('prediction:N')\n",
        ").properties(\n",
        "    title='Predictions on the Iris test set',\n",
        "    width=400,\n",
        "    height=400\n",
        ")\n",
        "\n",
        "chart"
      ]
    },
    {
      "cell_type": "code",
      "source": [],
      "metadata": {
        "id": "NO8WzOICPB1x"
      },
      "id": "NO8WzOICPB1x",
      "execution_count": null,
      "outputs": []
    }
  ],
  "metadata": {
    "kernelspec": {
      "display_name": "Python 3",
      "language": "python",
      "name": "python3"
    },
    "language_info": {
      "codemirror_mode": {
        "name": "ipython",
        "version": 3
      },
      "file_extension": ".py",
      "mimetype": "text/x-python",
      "name": "python",
      "nbconvert_exporter": "python",
      "pygments_lexer": "ipython3",
      "version": "3.9.16"
    },
    "colab": {
      "provenance": [],
      "include_colab_link": true
    }
  },
  "nbformat": 4,
  "nbformat_minor": 5
}